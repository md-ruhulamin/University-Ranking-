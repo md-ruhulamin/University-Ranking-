{
  "nbformat": 4,
  "nbformat_minor": 0,
  "metadata": {
    "colab": {
      "provenance": []
    },
    "kernelspec": {
      "name": "python3",
      "display_name": "Python 3"
    },
    "language_info": {
      "name": "python"
    }
  },
  "cells": [
    {
      "cell_type": "code",
      "execution_count": null,
      "metadata": {
        "id": "XkPZs8NC7CkJ"
      },
      "outputs": [],
      "source": []
    },
    {
      "cell_type": "markdown",
      "metadata": {
        "id": "ba1aebfc"
      },
      "source": [
        "# Task\n",
        " K-Means clustering, and visualize the results."
      ]
    },
    {
      "cell_type": "code",
      "source": [
        "# Step 1: Create student performance dataset\n",
        "students = [\n",
        "    {'StudyHours': 1, 'Grade': 45},\n",
        "    {'StudyHours': 2, 'Grade': 50},\n",
        "    {'StudyHours': 2.5, 'Grade': 52},\n",
        "    {'StudyHours': 3, 'Grade': 55},\n",
        "    {'StudyHours': 3.5, 'Grade': 60},\n",
        "    {'StudyHours': 4, 'Grade': 62},\n",
        "    {'StudyHours': 5, 'Grade': 70},\n",
        "    {'StudyHours': 5.5, 'Grade': 72},\n",
        "    {'StudyHours': 6, 'Grade': 75},\n",
        "    {'StudyHours': 6.5, 'Grade': 78},\n",
        "    {'StudyHours': 7, 'Grade': 80},\n",
        "    {'StudyHours': 7.5, 'Grade': 82},\n",
        "    {'StudyHours': 8, 'Grade': 85},\n",
        "    {'StudyHours': 8.5, 'Grade': 87},\n",
        "    {'StudyHours': 9, 'Grade': 90},\n",
        "    {'StudyHours': 9.5, 'Grade': 92},\n",
        "    {'StudyHours': 10, 'Grade': 95},\n",
        "    {'StudyHours': 4.5, 'Grade': 65},\n",
        "    {'StudyHours': 2.2, 'Grade': 53},\n",
        "    {'StudyHours': 3.8, 'Grade': 58}\n",
        "]\n",
        "\n",
        "# Step 2: Convert to data points for clustering\n",
        "data_points = []\n",
        "for student in students:\n",
        "    data_points.append([student['StudyHours'], student['Grade']])\n",
        "\n",
        "# Step 3: KMeans Clustering Implementation\n",
        "import random\n",
        "import math\n",
        "\n",
        "# Helper function to calculate Euclidean distance\n",
        "def distance(p1, p2):\n",
        "    return math.sqrt((p1[0]-p2[0])**2 + (p1[1]-p2[1])**2)\n",
        "\n",
        "# Initialize K centroids randomly\n",
        "def initialize_centroids(points, k):\n",
        "    return random.sample(points, k)\n",
        "\n",
        "# Assign points to nearest centroid\n",
        "def assign_clusters(points, centroids):\n",
        "    clusters = [[] for _ in centroids]\n",
        "    for point in points:\n",
        "        dists = [distance(point, centroid) for centroid in centroids]\n",
        "        min_index = dists.index(min(dists))\n",
        "        clusters[min_index].append(point)\n",
        "    return clusters\n",
        "\n",
        "# Calculate new centroids\n",
        "def calculate_centroids(clusters):\n",
        "    new_centroids = []\n",
        "    for cluster in clusters:\n",
        "        if cluster:\n",
        "            x_coords = [point[0] for point in cluster]\n",
        "            y_coords = [point[1] for point in cluster]\n",
        "            new_centroids.append([sum(x_coords)/len(x_coords), sum(y_coords)/len(y_coords)])\n",
        "        else:\n",
        "            new_centroids.append([0, 0])\n",
        "    return new_centroids\n",
        "\n",
        "# Check if centroids have converged\n",
        "def has_converged(old_centroids, new_centroids, tol=1e-4):\n",
        "    for oc, nc in zip(old_centroids, new_centroids):\n",
        "        if distance(oc, nc) > tol:\n",
        "            return False\n",
        "    return True\n",
        "\n",
        "# Full KMeans function\n",
        "def kmeans(points, k=3, max_iters=5):\n",
        "    centroids = initialize_centroids(points, k)\n",
        "    for _ in range(max_iters):\n",
        "        clusters = assign_clusters(points, centroids)\n",
        "        new_centroids = calculate_centroids(clusters)\n",
        "        if has_converged(centroids, new_centroids):\n",
        "            break\n",
        "        centroids = new_centroids\n",
        "    # Map each point to its cluster index\n",
        "    labels = []\n",
        "    for point in points:\n",
        "        dists = [distance(point, centroid) for centroid in centroids]\n",
        "        labels.append(dists.index(min(dists)))\n",
        "    return labels, centroids\n",
        "\n",
        "# Step 4: Apply KMeans\n",
        "labels, centroids = kmeans(data_points, k=3)\n",
        "\n",
        "# Step 5: Print results\n",
        "for i, student in enumerate(students):\n",
        "    print(f\"Student {i+1}: StudyHours={student['StudyHours']}, Grade={student['Grade']}, Cluster={labels[i]}\")\n",
        "\n",
        "# Optional: Visualization\n",
        "try:\n",
        "    import matplotlib.pyplot as plt\n",
        "\n",
        "    colors = ['red', 'blue', 'green']\n",
        "    cluster_names = ['Low', 'Average', 'High']\n",
        "\n",
        "    plt.figure(figsize=(8,6))\n",
        "    for i in range(len(data_points)):\n",
        "        x, y = data_points[i]\n",
        "        plt.scatter(x, y, color=colors[labels[i]], label=f'Cluster {labels[i]}' if i == 0 else \"\")\n",
        "\n",
        "    for centroid in centroids:\n",
        "        plt.scatter(centroid[0], centroid[1], color='black', marker='X', s=200)\n",
        "\n",
        "    plt.title('K-Means Clustering of Student Performance')\n",
        "    plt.xlabel('Study Hours per Day')\n",
        "    plt.ylabel('Grade')\n",
        "    plt.grid(True)\n",
        "    plt.show()\n",
        "\n",
        "except ImportError:\n",
        "    print(\"\\nmatplotlib not installed — skipping plot.\\n\")\n"
      ],
      "metadata": {
        "id": "BDR4ITgD8dYz",
        "outputId": "171f2d08-17f6-4856-dee3-9ead85bced14",
        "colab": {
          "base_uri": "https://localhost:8080/",
          "height": 911
        }
      },
      "execution_count": null,
      "outputs": [
        {
          "output_type": "stream",
          "name": "stdout",
          "text": [
            "Student 1: StudyHours=1, Grade=45, Cluster=1\n",
            "Student 2: StudyHours=2, Grade=50, Cluster=1\n",
            "Student 3: StudyHours=2.5, Grade=52, Cluster=1\n",
            "Student 4: StudyHours=3, Grade=55, Cluster=1\n",
            "Student 5: StudyHours=3.5, Grade=60, Cluster=1\n",
            "Student 6: StudyHours=4, Grade=62, Cluster=1\n",
            "Student 7: StudyHours=5, Grade=70, Cluster=2\n",
            "Student 8: StudyHours=5.5, Grade=72, Cluster=2\n",
            "Student 9: StudyHours=6, Grade=75, Cluster=2\n",
            "Student 10: StudyHours=6.5, Grade=78, Cluster=2\n",
            "Student 11: StudyHours=7, Grade=80, Cluster=2\n",
            "Student 12: StudyHours=7.5, Grade=82, Cluster=0\n",
            "Student 13: StudyHours=8, Grade=85, Cluster=0\n",
            "Student 14: StudyHours=8.5, Grade=87, Cluster=0\n",
            "Student 15: StudyHours=9, Grade=90, Cluster=0\n",
            "Student 16: StudyHours=9.5, Grade=92, Cluster=0\n",
            "Student 17: StudyHours=10, Grade=95, Cluster=0\n",
            "Student 18: StudyHours=4.5, Grade=65, Cluster=2\n",
            "Student 19: StudyHours=2.2, Grade=53, Cluster=1\n",
            "Student 20: StudyHours=3.8, Grade=58, Cluster=1\n"
          ]
        },
        {
          "output_type": "display_data",
          "data": {
            "text/plain": [
              "<Figure size 800x600 with 1 Axes>"
            ],
            "image/png": "[encoded data removed]"
          },
          "metadata": {}
        }
      ]
    }
  ]
}